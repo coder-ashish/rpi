{
 "cells": [
  {
   "cell_type": "code",
   "execution_count": 1,
   "metadata": {},
   "outputs": [
    {
     "name": "stdout",
     "output_type": "stream",
     "text": [
      "Ascending: {'banana': 30, 'orange': 40, 'apple': 50, 'grape': 60}\n",
      "Descending: {'grape': 60, 'apple': 50, 'orange': 40, 'banana': 30}\n"
     ]
    }
   ],
   "source": [
    "# RA2111026010435\n",
    "def sort_dict_by_value(dictionary, ascending=True):\n",
    "    # Function to sort a dictionary by its values\n",
    "    sorted_dict = dict(sorted(dictionary.items(), key=lambda item: item[1], reverse=not ascending))\n",
    "    return sorted_dict\n",
    "\n",
    "# Example usage:\n",
    "sample_dict = {'apple': 50, 'banana': 30, 'orange': 40, 'grape': 60}\n",
    "ascending_sorted_dict = sort_dict_by_value(sample_dict, ascending=True)\n",
    "descending_sorted_dict = sort_dict_by_value(sample_dict, ascending=False)\n",
    "print(\"Ascending:\", ascending_sorted_dict)\n",
    "print(\"Descending:\", descending_sorted_dict)\n"
   ]
  },
  {
   "cell_type": "code",
   "execution_count": 2,
   "metadata": {},
   "outputs": [
    {
     "name": "stdout",
     "output_type": "stream",
     "text": [
      "{'August 1': 72, 'August 2': 54, 'August 3': 93, 'August 4': 52, 'August 5': 57, 'August 6': 75, 'August 7': 70, 'August 8': 67, 'August 9': 98, 'August 10': 60}\n",
      "August 10 data exists.\n"
     ]
    }
   ],
   "source": [
    "# RA2111026010435\n",
    "import random\n",
    "\n",
    "def generate_temperature_profile():\n",
    "    # Function to generate a temperature profile dictionary for ten days in August\n",
    "    temp_profile = {}\n",
    "    for day in range(1, 11):\n",
    "        date = f\"August {day}\"\n",
    "        temperature = random.randint(30, 100)\n",
    "        temp_profile[date] = temperature\n",
    "    return temp_profile\n",
    "\n",
    "def check_august_10_data(temp_profile):\n",
    "    # Function to check if data for August 10 exists in the dictionary\n",
    "    if \"August 10\" in temp_profile:\n",
    "        print(\"August 10 data exists.\")\n",
    "    else:\n",
    "        print(\"August 10 data does not exist.\")\n",
    "\n",
    "# Example usage:\n",
    "august_temp_profile = generate_temperature_profile()\n",
    "print(august_temp_profile)\n",
    "check_august_10_data(august_temp_profile)\n"
   ]
  },
  {
   "cell_type": "code",
   "execution_count": 3,
   "metadata": {},
   "outputs": [
    {
     "name": "stdout",
     "output_type": "stream",
     "text": [
      "Count of 30: 0\n",
      "Count of 40: 0\n"
     ]
    }
   ],
   "source": [
    "# RA2111026010435\n",
    "def count_temperatures(temp_profile):\n",
    "    # Function to count occurrences of temperatures 30 and 40 in the dictionary\n",
    "    count_30 = list(temp_profile.values()).count(30)\n",
    "    count_40 = list(temp_profile.values()).count(40)\n",
    "    return count_30, count_40\n",
    "\n",
    "# Example usage:\n",
    "count_30, count_40 = count_temperatures(august_temp_profile)\n",
    "print(\"Count of 30:\", count_30)\n",
    "print(\"Count of 40:\", count_40)\n"
   ]
  },
  {
   "cell_type": "code",
   "execution_count": 4,
   "metadata": {},
   "outputs": [
    {
     "name": "stdout",
     "output_type": "stream",
     "text": [
      "{'July 1': 39, 'July 2': 61, 'July 3': 96, 'July 4': 65, 'July 5': 86, 'July 6': 41, 'July 7': 61, 'July 8': 30, 'July 9': 69, 'July 10': 42}\n",
      "{'July 1': 39, 'July 2': 61, 'July 3': 96, 'July 4': 65, 'July 5': 86, 'July 6': 41, 'July 7': 61, 'July 8': 30, 'July 9': 69, 'July 10': 42, 'August 1': 72, 'August 2': 54, 'August 3': 93, 'August 4': 52, 'August 5': 57, 'August 6': 75, 'August 7': 70, 'August 8': 67, 'August 9': 98, 'August 10': 60}\n"
     ]
    }
   ],
   "source": [
    "# RA2111026010435\n",
    "def generate_july_temperature_profile():\n",
    "    # Function to generate a temperature profile dictionary for ten days in July\n",
    "    temp_profile = {}\n",
    "    for day in range(1, 11):\n",
    "        date = f\"July {day}\"\n",
    "        temperature = random.randint(30, 100)\n",
    "        temp_profile[date] = temperature\n",
    "    return temp_profile\n",
    "\n",
    "def concatenate_dictionaries(dict1, dict2):\n",
    "    # Function to concatenate two dictionaries into one\n",
    "    combined_dict = {**dict1, **dict2}\n",
    "    return combined_dict\n",
    "\n",
    "# Example usage:\n",
    "july_temp_profile = generate_july_temperature_profile()\n",
    "print(july_temp_profile)\n",
    "july_aug_temp_profile = concatenate_dictionaries(july_temp_profile, august_temp_profile)\n",
    "print(july_aug_temp_profile)\n"
   ]
  },
  {
   "cell_type": "code",
   "execution_count": 5,
   "metadata": {},
   "outputs": [
    {
     "name": "stdout",
     "output_type": "stream",
     "text": [
      "Multiplication Result: 615332206758110267956096659456000000\n",
      "Average Temperature: 64.4\n"
     ]
    }
   ],
   "source": [
    "# RA2111026010435\n",
    "def multiply_items_and_find_average(dictionary):\n",
    "    # Function to multiply all items in the dictionary and find the average temperature\n",
    "    multiplication_result = 1\n",
    "    total_temperature = 0\n",
    "    for temperature in dictionary.values():\n",
    "        multiplication_result *= temperature\n",
    "        total_temperature += temperature\n",
    "    average_temperature = total_temperature / len(dictionary)\n",
    "    return multiplication_result, average_temperature\n",
    "\n",
    "# Example usage:\n",
    "multiplication_result, average_temperature = multiply_items_and_find_average(july_aug_temp_profile)\n",
    "print(\"Multiplication Result:\", multiplication_result)\n",
    "print(\"Average Temperature:\", average_temperature)\n"
   ]
  },
  {
   "cell_type": "code",
   "execution_count": null,
   "metadata": {},
   "outputs": [],
   "source": []
  }
 ],
 "metadata": {
  "kernelspec": {
   "display_name": "Python 3 (ipykernel)",
   "language": "python",
   "name": "python3"
  },
  "language_info": {
   "codemirror_mode": {
    "name": "ipython",
    "version": 3
   },
   "file_extension": ".py",
   "mimetype": "text/x-python",
   "name": "python",
   "nbconvert_exporter": "python",
   "pygments_lexer": "ipython3",
   "version": "3.11.1"
  }
 },
 "nbformat": 4,
 "nbformat_minor": 4
}
