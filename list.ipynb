{
 "cells": [
  {
   "cell_type": "code",
   "execution_count": 1,
   "metadata": {},
   "outputs": [
    {
     "name": "stdout",
     "output_type": "stream",
     "text": [
      "[5, 2, 3, 4, 1]\n"
     ]
    }
   ],
   "source": [
    "#  \n",
    "def interchange_first_last(lst):\n",
    "    # Function to interchange the first and last elements in a list\n",
    "    if len(lst) >= 2:\n",
    "        lst[0], lst[-1] = lst[-1], lst[0]\n",
    "    return lst\n",
    "\n",
    "# Example usage:\n",
    "sample_list = [1, 2, 3, 4, 5]\n",
    "result_list = interchange_first_last(sample_list)\n",
    "print(result_list)  # Output: [5, 2, 3, 4, 1]\n"
   ]
  },
  {
   "cell_type": "code",
   "execution_count": 2,
   "metadata": {},
   "outputs": [
    {
     "name": "stdout",
     "output_type": "stream",
     "text": [
      "Largest elements: [31, 41, 45]\n",
      "Smallest elements: [2, 8, 10]\n"
     ]
    }
   ],
   "source": [
    "#  \n",
    "def find_n_largest_smallest(lst, n):\n",
    "    # Function to find N largest and smallest elements from a list\n",
    "    largest_elements = sorted(lst)[-n:]\n",
    "    smallest_elements = sorted(lst)[:n]\n",
    "    return largest_elements, smallest_elements\n",
    "\n",
    "# Example usage:\n",
    "sample_list = [12, 45, 2, 41, 31, 10, 8, 19]\n",
    "n = 3\n",
    "largest, smallest = find_n_largest_smallest(sample_list, n)\n",
    "print(\"Largest elements:\", largest)   # Output: [31, 41, 45]\n",
    "print(\"Smallest elements:\", smallest)  # Output: [2, 8, 10]\n"
   ]
  },
  {
   "cell_type": "code",
   "execution_count": 3,
   "metadata": {},
   "outputs": [
    {
     "name": "stdout",
     "output_type": "stream",
     "text": [
      "[1, 3, 6, 10, 15]\n"
     ]
    }
   ],
   "source": [
    "#  \n",
    "def cumulative_sum(lst):\n",
    "    # Function to find the cumulative sum of elements in a list\n",
    "    cum_sum = []\n",
    "    total_sum = 0\n",
    "    for num in lst:\n",
    "        total_sum += num\n",
    "        cum_sum.append(total_sum)\n",
    "    return cum_sum\n",
    "\n",
    "# Example usage:\n",
    "sample_list = [1, 2, 3, 4, 5]\n",
    "result = cumulative_sum(sample_list)\n",
    "print(result)  # Output: [1, 3, 6, 10, 15]\n"
   ]
  },
  {
   "cell_type": "code",
   "execution_count": 4,
   "metadata": {},
   "outputs": [
    {
     "name": "stdout",
     "output_type": "stream",
     "text": [
      "[3, 7, 10]\n"
     ]
    }
   ],
   "source": [
    "#  \n",
    "def positive_numbers(lst):\n",
    "    # Function to find positive numbers from a list\n",
    "    positive_nums = [num for num in lst if num > 0]\n",
    "    return positive_nums\n",
    "\n",
    "# Example usage:\n",
    "sample_list = [-2, 3, 0, -5, 7, -8, 10]\n",
    "result = positive_numbers(sample_list)\n",
    "print(result)  # Output: [3, 7, 10]\n"
   ]
  },
  {
   "cell_type": "code",
   "execution_count": 5,
   "metadata": {},
   "outputs": [
    {
     "name": "stdout",
     "output_type": "stream",
     "text": [
      "First 5 elements: [1, 4, 9, 16, 25]\n",
      "Last 5 elements: [676, 729, 784, 841, 900]\n"
     ]
    }
   ],
   "source": [
    "#  \n",
    "def generate_square_list():\n",
    "    # Function to generate a list of first and last 5 elements with squares\n",
    "    square_list = [num**2 for num in range(1, 31)]\n",
    "    first_5_elements = square_list[:5]\n",
    "    last_5_elements = square_list[-5:]\n",
    "    return first_5_elements, last_5_elements\n",
    "\n",
    "# Example usage:\n",
    "first_5, last_5 = generate_square_list()\n",
    "print(\"First 5 elements:\", first_5)   # Output: [1, 4, 9, 16, 25]\n",
    "print(\"Last 5 elements:\", last_5)     # Output: [676, 729, 784, 841, 900]\n"
   ]
  },
  {
   "cell_type": "code",
   "execution_count": null,
   "metadata": {},
   "outputs": [],
   "source": []
  }
 ],
 "metadata": {
  "kernelspec": {
   "display_name": "Python 3",
   "language": "python",
   "name": "python3"
  },
  "language_info": {
   "codemirror_mode": {
    "name": "ipython",
    "version": 3
   },
   "file_extension": ".py",
   "mimetype": "text/x-python",
   "name": "python",
   "nbconvert_exporter": "python",
   "pygments_lexer": "ipython3",
   "version": "3.6.4"
  }
 },
 "nbformat": 4,
 "nbformat_minor": 2
}
