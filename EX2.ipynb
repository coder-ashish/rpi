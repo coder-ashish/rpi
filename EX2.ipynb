{
 "cells": [
  {
   "cell_type": "code",
   "execution_count": 1,
   "metadata": {},
   "outputs": [
    {
     "name": "stdout",
     "output_type": "stream",
     "text": [
      "25\n"
     ]
    }
   ],
   "source": [
    "# RA2111026010438\n",
    "def find_maximum(num1, num2):\n",
    "    # Function to find the maximum of two numbers\n",
    "    if num1 > num2:\n",
    "        return num1\n",
    "    else:\n",
    "        return num2\n",
    "\n",
    "# Example usage:\n",
    "result = find_maximum(10, 25)\n",
    "print(result)  \n"
   ]
  },
  {
   "cell_type": "code",
   "execution_count": 2,
   "metadata": {},
   "outputs": [
    {
     "name": "stdout",
     "output_type": "stream",
     "text": [
      "Three and Five\n"
     ]
    }
   ],
   "source": [
    "# RA2111026010438\n",
    "def divisible(num):\n",
    "    # Function to check divisibility by 3, 5, both or neither\n",
    "    if num % 3 == 0 and num % 5 == 0:\n",
    "        return \"Three and Five\"\n",
    "    elif num % 3 == 0:\n",
    "        return \"Three\"\n",
    "    elif num % 5 == 0:\n",
    "        return \"Five\"\n",
    "    else:\n",
    "        return num\n",
    "\n",
    "# Example usage:\n",
    "result = divisible(15)\n",
    "print(result)  \n"
   ]
  },
  {
   "cell_type": "code",
   "execution_count": 3,
   "metadata": {},
   "outputs": [
    {
     "name": "stdout",
     "output_type": "stream",
     "text": [
      "Points: 2\n"
     ]
    }
   ],
   "source": [
    "# RA2111026010438\n",
    "def check_speed(speed):\n",
    "    # Function to check the speed of drivers and issue demerit points\n",
    "    if speed < 70:\n",
    "        print(\"Ok\")\n",
    "    else:\n",
    "        demerit_points = (speed - 70) // 5\n",
    "        if demerit_points > 12:\n",
    "            print(\"License suspended\")\n",
    "        else:\n",
    "            print(\"Points:\", demerit_points)\n",
    "\n",
    "# Example usage:\n",
    "check_speed(80)\n"
   ]
  },
  {
   "cell_type": "code",
   "execution_count": 4,
   "metadata": {},
   "outputs": [
    {
     "name": "stdout",
     "output_type": "stream",
     "text": [
      "0 EVEN\n",
      "1 ODD\n",
      "2 EVEN\n",
      "3 ODD\n"
     ]
    }
   ],
   "source": [
    "# RA2111026010438\n",
    "def showNumbers(limit):\n",
    "    # Function to print even and odd numbers between 0 and limit\n",
    "    for num in range(limit + 1):\n",
    "        if num % 2 == 0:\n",
    "            print(num, \"EVEN\")\n",
    "        else:\n",
    "            print(num, \"ODD\")\n",
    "\n",
    "# Example usage:\n",
    "showNumbers(3)\n"
   ]
  },
  {
   "cell_type": "code",
   "execution_count": 5,
   "metadata": {},
   "outputs": [
    {
     "name": "stdout",
     "output_type": "stream",
     "text": [
      "1 is less than 7\n",
      "2 is less than 7\n",
      "3 is less than 7\n",
      "4 is less than 7\n",
      "5 is less than 7\n",
      "6 is less than 7\n",
      "7 is less than 7\n",
      "8 is not less than 7\n"
     ]
    }
   ],
   "source": [
    "# RA2111026010438\n",
    "def check_number():\n",
    "    # Function to check if the number is less than 7 using a while loop\n",
    "    n = 1\n",
    "    while n <= 7:\n",
    "        print(n, \"is less than 7\")\n",
    "        n += 1\n",
    "    print(n, \"is not less than 7\")\n",
    "\n",
    "# Example usage:\n",
    "check_number()\n"
   ]
  },
  {
   "cell_type": "code",
   "execution_count": null,
   "metadata": {},
   "outputs": [],
   "source": []
  }
 ],
 "metadata": {
  "kernelspec": {
   "display_name": "Python 3",
   "language": "python",
   "name": "python3"
  },
  "language_info": {
   "codemirror_mode": {
    "name": "ipython",
    "version": 3
   },
   "file_extension": ".py",
   "mimetype": "text/x-python",
   "name": "python",
   "nbconvert_exporter": "python",
   "pygments_lexer": "ipython3",
   "version": "3.6.4"
  }
 },
 "nbformat": 4,
 "nbformat_minor": 2
}
